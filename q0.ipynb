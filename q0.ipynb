{
 "cells": [
  {
   "cell_type": "raw",
   "id": "f5cdd943",
   "metadata": {
    "vscode": {
     "languageId": "raw"
    }
   },
   "source": [
    "# ASSIGNMENT CONFIG\n",
    "generate:\n",
    "    #token: 8654j6ett3xjTQHqUK3Jyw                  # required\n",
    "    course_id: 787690 # from gradescope URL\n",
    "    assignment_id: 4552925 # from Gradescope MANUAL assignment URL\n",
    "    filtering: true              # true is the default  \n",
    "    pagebreaks: true\n",
    "    show_stdout: true\n",
    "    show_hidden: true\n",
    "requirements: # for building the autograder, in addition to the stuff required by otter\n",
    "    - qiskit==0.32.1\n",
    "    - pylatexenc\n",
    "    - git+https://github.com/qiskit-community/qiskit-textbook.git#egg=qiskit_textbook&subdirectory=qiskit-textbook-src\n",
    "export_cell:                     # whether to include an Otter export cell in the output notebooks\n",
    "    instructions: ''             # additional submission instructions to include in the export cell\n",
    "    pdf: false                   # whether to include a PDF of the notebook in the generated zip file\n",
    "    filtering: true              # whether the generated PDF should be filtered\n",
    "    pagebreaks: true             # whether to include page breaks in the PDF\n",
    "    run_tests: true             # whether to run student submissions against local tests during export\n",
    "runs_on: colab\n",
    "template_pdf: true\n",
    "solutions_pdf: true"
   ]
  },
  {
   "cell_type": "markdown",
   "id": "spare-advancement",
   "metadata": {},
   "source": [
    "# Qiskit Assignment 0\n",
    "## README\n",
    "Welcome to your first Qiskit assignment! Qiskit is IBM's open-source SDK for working with quantum computers. We will be using Qiskit for programming assignments this semester. This assignment will help you begin to familarize yourself with the assignment workflow.\n",
    "\n",
    "Qiskit assignments generally contain a mix of code problems and short answer questions. Some questions will be autograded and others are graded by hand. Make sure to follow all instructions to receive full credit. You should fill in code wherever you see `...`, and you should not change the code given to you unless explicitly stated to. **Nearly all needed code can be found in linked documentation throughout your notebook**. \n",
    "\n",
    "When debugging your solutions, fix the top error first as subsequent tests may not pass if preliminary ones fail. Minimal credit will be awarded to solutions that do not pass all tests.\n",
    "\n",
    "To submit your assignment, follow instructions at the bottom of the notebook and **submit only to the corresponding \"auto\" assignment** (e.g. qiskit 0 auto). Double check your autograder score on Gradescope to ensure it matches the output of your local tests.\n",
    "\n",
    "### Learning Objectives\n",
    "1. Get familiar with Qiskit\n",
    "2. Understand the difference between classical and quantum bits\n",
    "3. Build simple quantum circuits\n",
    "4. Run a circuit on a quantum computer\n",
    "\n",
    "### Resources\n",
    "Qiskit assignments are designed to be collaborative and open internet. Where possible, links to useful documentation will be embedded within questions. You're free to discuss these tasks with TAs and peers, but do **write your own solutions**. For some questions, there may be additional restrictions on the ways you can solve them. To ensure compliance with course policies and assignment instructions, we reserve the right to inspect your code."
   ]
  },
  {
   "cell_type": "markdown",
   "id": "1bb9ab9a",
   "metadata": {},
   "source": [
    "**NAME**: REPLACE WITH YOUR NAME\n",
    "\n",
    "**STUDENT ID**: REPLACE WITH YOUR STUDENT ID"
   ]
  },
  {
   "cell_type": "code",
   "execution_count": 1,
   "id": "legitimate-explosion",
   "metadata": {},
   "outputs": [],
   "source": [
    "# RUN THIS CELL!\n",
    "# Import Qiskit and other needed packages\n",
    "from qiskit import *\n",
    "from qiskit.visualization import plot_histogram\n",
    "from qiskit.quantum_info import Statevector\n",
    "from qiskit_textbook.tools import array_to_latex\n",
    "from qiskit.providers.ibmq import least_busy\n",
    "import numpy as np\n",
    "import pprint"
   ]
  },
  {
   "cell_type": "raw",
   "id": "a0469427",
   "metadata": {},
   "source": [
    "# BEGIN QUESTION\n",
    "name: Task 1\n",
    "points: 20\n",
    "manual: false"
   ]
  },
  {
   "cell_type": "markdown",
   "id": "secure-secondary",
   "metadata": {},
   "source": [
    "#### Task 1 - Building a Circuit (20 pts)\n",
    "Using Qiskit's [QuantumCircuit class](https://qiskit.org/documentation/stubs/qiskit.circuit.QuantumCircuit.html?highlight=quantumcircuit), fill in the `simpleCircuit()` function as follows:\n",
    "\n",
    "- Create a quantum circuit with 1 qubit and 1 classical bit\n",
    "- Measure the qubit\n",
    "- Return the circuit"
   ]
  },
  {
   "cell_type": "raw",
   "id": "3a238496",
   "metadata": {},
   "source": [
    "# BEGIN SOLUTION"
   ]
  },
  {
   "cell_type": "code",
   "execution_count": 2,
   "id": "prescription-inventory",
   "metadata": {},
   "outputs": [],
   "source": [
    "def simpleCircuit():\n",
    "    # BEGIN SOLUTION\n",
    "    qc = QuantumCircuit(1,1)\n",
    "    qc.measure(0,0)\n",
    "    return qc\n",
    "    # END SOLUTION"
   ]
  },
  {
   "cell_type": "raw",
   "id": "c6b8615f",
   "metadata": {},
   "source": [
    "# END SOLUTION"
   ]
  },
  {
   "cell_type": "raw",
   "id": "2f02f000",
   "metadata": {},
   "source": [
    "# BEGIN TESTS "
   ]
  },
  {
   "cell_type": "code",
   "execution_count": 3,
   "id": "ee46c22f",
   "metadata": {},
   "outputs": [
    {
     "data": {
      "text/plain": [
       "True"
      ]
     },
     "execution_count": 3,
     "metadata": {},
     "output_type": "execute_result"
    }
   ],
   "source": [
    "\"\"\" # BEGIN TEST CONFIG\n",
    "hidden: false\n",
    "points: 1\n",
    "failure_message: EXPECTED FUNCTION TO RETURN TYPE QuantumCircuit\n",
    "\"\"\" # END TEST CONFIG\n",
    "isinstance(simpleCircuit(), QuantumCircuit)"
   ]
  },
  {
   "cell_type": "code",
   "execution_count": 4,
   "id": "074c000c",
   "metadata": {},
   "outputs": [
    {
     "data": {
      "text/plain": [
       "True"
      ]
     },
     "execution_count": 4,
     "metadata": {},
     "output_type": "execute_result"
    }
   ],
   "source": [
    "\"\"\" # BEGIN TEST CONFIG\n",
    "hidden: false\n",
    "points: 1\n",
    "failure_message: EXPECTED CIRCUIT TO HAVE 1 CLASSICAL BIT\n",
    "\"\"\" # END TEST CONFIG\n",
    "simpleCircuit().num_clbits == 1"
   ]
  },
  {
   "cell_type": "code",
   "execution_count": 5,
   "id": "16439c1e",
   "metadata": {},
   "outputs": [
    {
     "data": {
      "text/plain": [
       "True"
      ]
     },
     "execution_count": 5,
     "metadata": {},
     "output_type": "execute_result"
    }
   ],
   "source": [
    "\"\"\" # BEGIN TEST CONFIG\n",
    "hidden: false\n",
    "points: 1\n",
    "failure_message: EXPECTED CIRCUIT TO HAVE 1 QUBIT\n",
    "\"\"\" # END TEST CONFIG\n",
    "simpleCircuit().num_qubits == 1"
   ]
  },
  {
   "cell_type": "code",
   "execution_count": 6,
   "id": "de8da64f",
   "metadata": {},
   "outputs": [
    {
     "data": {
      "text/plain": [
       "True"
      ]
     },
     "execution_count": 6,
     "metadata": {},
     "output_type": "execute_result"
    }
   ],
   "source": [
    "\"\"\" # BEGIN TEST CONFIG\n",
    "hidden: false\n",
    "points: 1\n",
    "failure_message: EXPECTED CIRCUIT TO PERFORM A MEASUREMENT\n",
    "\"\"\" # END TEST CONFIG\n",
    "def testMeasurementPerformedSimple():\n",
    "    ops = simpleCircuit().count_ops()\n",
    "    return (ops['measure'] == 1 if 'measure' in ops else False)\n",
    "\n",
    "testMeasurementPerformedSimple()"
   ]
  },
  {
   "cell_type": "code",
   "execution_count": 7,
   "id": "c939459f",
   "metadata": {},
   "outputs": [
    {
     "data": {
      "text/plain": [
       "True"
      ]
     },
     "execution_count": 7,
     "metadata": {},
     "output_type": "execute_result"
    }
   ],
   "source": [
    "\"\"\" # BEGIN TEST CONFIG\n",
    "hidden: false\n",
    "points: 1\n",
    "failure_message: EXPECTED CIRCUIT TO PRODUCE STATE |0>\n",
    "\"\"\" # END TEST CONFIG\n",
    "def testProbabilitiesSimple():\n",
    "    qc = simpleCircuit()\n",
    "    job = execute(qc, BasicAer.get_backend('statevector_simulator'), shots=1)\n",
    "    return list(job.result().get_statevector(qc)) == [1,0]\n",
    "\n",
    "testProbabilitiesSimple()"
   ]
  },
  {
   "cell_type": "code",
   "execution_count": 8,
   "id": "7af60f16",
   "metadata": {},
   "outputs": [
    {
     "data": {
      "text/plain": [
       "True"
      ]
     },
     "execution_count": 8,
     "metadata": {},
     "output_type": "execute_result"
    }
   ],
   "source": [
    "\"\"\" # BEGIN TEST CONFIG\n",
    "hidden: false\n",
    "points: 15\n",
    "failure_message: ONE OF THE ABOVE TESTS IS NOT PASSING\n",
    "\"\"\" # END TEST CONFIG\n",
    "def testMeasurementPerformedSimple():\n",
    "    ops = simpleCircuit().count_ops()\n",
    "    return (ops['measure'] == 1 if 'measure' in ops else False)\n",
    "def testProbabilitiesSimple():\n",
    "    qc = simpleCircuit()\n",
    "    job = execute(qc, BasicAer.get_backend('statevector_simulator'), shots=1)\n",
    "    return list(job.result().get_statevector(qc)) == [1,0]\n",
    "\n",
    "isinstance(simpleCircuit(), QuantumCircuit) \\\n",
    "and simpleCircuit().num_clbits == 1 \\\n",
    "and simpleCircuit().num_qubits == 1 \\\n",
    "and testMeasurementPerformedSimple() \\\n",
    "and testProbabilitiesSimple()"
   ]
  },
  {
   "cell_type": "raw",
   "id": "f9126e72",
   "metadata": {},
   "source": [
    "# END TESTS"
   ]
  },
  {
   "cell_type": "raw",
   "id": "7c34782c",
   "metadata": {},
   "source": [
    "# END QUESTION"
   ]
  },
  {
   "cell_type": "raw",
   "id": "50e12033",
   "metadata": {},
   "source": [
    "# BEGIN QUESTION\n",
    "name: Task 2\n",
    "points: 20\n",
    "manual: true"
   ]
  },
  {
   "cell_type": "markdown",
   "id": "cleared-malawi",
   "metadata": {},
   "source": [
    "#### Task 2 - Drawing Circuits (20 pts)\n",
    "We can visualize circuits using the QuantumCircuit's [draw method](https://qiskit.org/documentation/stubs/qiskit.circuit.QuantumCircuit.draw.html#qiskit.circuit.QuantumCircuit.draw).\n",
    "\n",
    "Draw your circuit from Task 1 using the matplotlib format."
   ]
  },
  {
   "cell_type": "raw",
   "id": "1aa3443d",
   "metadata": {},
   "source": [
    "# BEGIN SOLUTION"
   ]
  },
  {
   "cell_type": "code",
   "execution_count": 9,
   "id": "caroline-annotation",
   "metadata": {},
   "outputs": [
    {
     "data": {
      "image/png": "[encoded data removed]",
      "text/plain": [
       "<Figure size 133.526x144.48 with 1 Axes>"
      ]
     },
     "execution_count": 9,
     "metadata": {},
     "output_type": "execute_result"
    }
   ],
   "source": [
    "# Draw your circuit in this cell\n",
    "\n",
    "# BEGIN SOLUTION\n",
    "simpleCircuit().draw(output=\"mpl\")\n",
    "# END SOLUTION"
   ]
  },
  {
   "cell_type": "raw",
   "id": "50534e99",
   "metadata": {},
   "source": [
    "# END SOLUTION"
   ]
  },
  {
   "cell_type": "raw",
   "id": "6eda5d77",
   "metadata": {},
   "source": [
    "# END QUESTION"
   ]
  },
  {
   "cell_type": "raw",
   "id": "44be5246",
   "metadata": {},
   "source": [
    "# BEGIN QUESTION\n",
    "name: Task 3\n",
    "points: 10\n",
    "manual: false"
   ]
  },
  {
   "cell_type": "markdown",
   "id": "appropriate-mixture",
   "metadata": {},
   "source": [
    "#### Task 3 - Simulating Circuits and Getting Results (10 pts)\n",
    "Circuits aren't very helpful unless we can run them and observe the outputs.\n",
    "We will frequently use the [qasm simulator](https://qiskit.org/documentation/stubs/qiskit.providers.aer.QasmSimulator.html) to simulate our circuit on a quantum machine.\n",
    "\n",
    "Create a job that runs a simpleCircuit `468` times. You will find these [docs](https://qiskit.org/documentation/apidoc/execute.html) useful. (Think: Do the results match what we'd expect from this circuit?)"
   ]
  },
  {
   "cell_type": "raw",
   "id": "ac4a94ae",
   "metadata": {},
   "source": [
    "# BEGIN SOLUTION"
   ]
  },
  {
   "cell_type": "code",
   "execution_count": 10,
   "id": "scheduled-hypothetical",
   "metadata": {},
   "outputs": [
    {
     "data": {
      "image/png": "[encoded data removed]",
      "text/plain": [
       "<Figure size 504x360 with 1 Axes>"
      ]
     },
     "execution_count": 10,
     "metadata": {},
     "output_type": "execute_result"
    }
   ],
   "source": [
    "qc = simpleCircuit()\n",
    "qasm_sim = BasicAer.get_backend(\"qasm_simulator\")\n",
    "\n",
    "job = execute(qc, qasm_sim, shots=468) # SOLUTION\n",
    "\n",
    "counts = job.result().get_counts()\n",
    "\n",
    "# This loop includes a state with zero probability \n",
    "# on the histogram for the purpose of \n",
    "# comparison with the next section.\n",
    "for state in ['0','1']:\n",
    "    if state not in counts:\n",
    "        counts[state] = 0\n",
    "        \n",
    "plot_histogram(counts)"
   ]
  },
  {
   "cell_type": "raw",
   "id": "2670e1f1",
   "metadata": {},
   "source": [
    "# END SOLUTION"
   ]
  },
  {
   "cell_type": "raw",
   "id": "152d049d",
   "metadata": {},
   "source": [
    "# BEGIN TESTS"
   ]
  },
  {
   "cell_type": "code",
   "execution_count": 11,
   "id": "10732052",
   "metadata": {},
   "outputs": [
    {
     "data": {
      "text/plain": [
       "True"
      ]
     },
     "execution_count": 11,
     "metadata": {},
     "output_type": "execute_result"
    }
   ],
   "source": [
    "\"\"\" # BEGIN TEST CONFIG\n",
    "hidden: false\n",
    "points: 10\n",
    "failure_message: EXPECTED simpleCircuit TO BE RUN 468 TIMES\n",
    "\"\"\" # END TEST CONFIG\n",
    "'0' in counts and counts['0'] == 468"
   ]
  },
  {
   "cell_type": "raw",
   "id": "2e848582",
   "metadata": {},
   "source": [
    "# END TESTS"
   ]
  },
  {
   "cell_type": "raw",
   "id": "17596d60",
   "metadata": {},
   "source": [
    "# END QUESTION"
   ]
  },
  {
   "cell_type": "raw",
   "id": "1f490b1b",
   "metadata": {},
   "source": [
    "# BEGIN QUESTION\n",
    "name: Task 4\n",
    "points: 20\n",
    "manual: true"
   ]
  },
  {
   "cell_type": "markdown",
   "id": "speaking-bulgaria",
   "metadata": {},
   "source": [
    "#### Task 4 - Running Your Circuit on a Quantum Computer (20 pts)\n",
    "Now let's compare our results from the simulator with the results from a real quantum device.\n",
    "\n",
    "Create an account with [IBM Quantum](https://quantum-computing.ibm.com/login) and paste your API token into the code block below."
   ]
  },
  {
   "cell_type": "code",
   "execution_count": 12,
   "id": "ff985808",
   "metadata": {},
   "outputs": [],
   "source": [
    "# IBMQ.save_account('REPLACE WITH YOUR TOKEN AND UNCOMMENT')"
   ]
  },
  {
   "cell_type": "markdown",
   "id": "28dfb12e",
   "metadata": {},
   "source": [
    "After running `save_account`, **please delete your token** from the previous cell and save your notebook. This keeps your token private to you and ensures the autograder does not time out. Credentials will be saved to your computer, and calling `load_account` is sufficient to retrieve them for future assignments."
   ]
  },
  {
   "cell_type": "code",
   "execution_count": 13,
   "id": "brazilian-standard",
   "metadata": {},
   "outputs": [
    {
     "data": {
      "text/plain": [
       "<AccountProvider for IBMQ(hub='ibm-q', group='open', project='main')>"
      ]
     },
     "execution_count": 13,
     "metadata": {},
     "output_type": "execute_result"
    }
   ],
   "source": [
    "IBMQ.load_account()"
   ]
  },
  {
   "cell_type": "markdown",
   "id": "included-expansion",
   "metadata": {},
   "source": [
    "The code block below lists some info about the available IBM quantum devices and queues."
   ]
  },
  {
   "cell_type": "code",
   "execution_count": 14,
   "id": "speaking-november",
   "metadata": {},
   "outputs": [
    {
     "name": "stdout",
     "output_type": "stream",
     "text": [
      "{'backend_name': 'ibmq_lima',\n",
      " 'backend_version': '1.0.40',\n",
      " 'operational': True,\n",
      " 'pending_jobs': 111,\n",
      " 'status_msg': 'active'}\n",
      "{'backend_name': 'ibmq_belem',\n",
      " 'backend_version': '1.0.53',\n",
      " 'operational': True,\n",
      " 'pending_jobs': 6,\n",
      " 'status_msg': 'active'}\n",
      "{'backend_name': 'ibmq_quito',\n",
      " 'backend_version': '1.1.35',\n",
      " 'operational': True,\n",
      " 'pending_jobs': 6,\n",
      " 'status_msg': 'active'}\n",
      "{'backend_name': 'ibmq_manila',\n",
      " 'backend_version': '1.1.0',\n",
      " 'operational': True,\n",
      " 'pending_jobs': 9,\n",
      " 'status_msg': 'active'}\n",
      "{'backend_name': 'ibm_nairobi',\n",
      " 'backend_version': '1.2.0',\n",
      " 'operational': True,\n",
      " 'pending_jobs': 18,\n",
      " 'status_msg': 'active'}\n",
      "{'backend_name': 'ibm_oslo',\n",
      " 'backend_version': '1.0.14',\n",
      " 'operational': True,\n",
      " 'pending_jobs': 20,\n",
      " 'status_msg': 'active'}\n"
     ]
    }
   ],
   "source": [
    "provider = IBMQ.get_provider(hub='ibm-q')\n",
    "for backend in provider.backends():\n",
    "    status = backend.status().to_dict()\n",
    "    if status['operational'] and status['status_msg'] == 'active':\n",
    "        if 'simulator' not in status['backend_name']:\n",
    "            print(pprint.pformat(status))"
   ]
  },
  {
   "cell_type": "markdown",
   "id": "e8f54c42",
   "metadata": {},
   "source": [
    "We can also use the [`least_busy`](https://qiskit.org/textbook/ch-algorithms/superdense-coding.html#4.-Superdense-Coding-on-a-Real-Quantum-Computer-) method to pick the quantum device with the fewest pending jobs."
   ]
  },
  {
   "cell_type": "code",
   "execution_count": 15,
   "id": "dfb7110f",
   "metadata": {},
   "outputs": [
    {
     "name": "stdout",
     "output_type": "stream",
     "text": [
      "Least busy quantum computer: ibmq_belem\n"
     ]
    }
   ],
   "source": [
    "lb = least_busy(IBMQ.get_provider(hub='ibm-q').backends(filters=lambda x: not x.configuration().simulator \n",
    "                                       and x.status().operational == True))\n",
    "print(\"Least busy quantum computer:\", lb)"
   ]
  },
  {
   "cell_type": "markdown",
   "id": "governing-industry",
   "metadata": {},
   "source": [
    "Choose one of the backends from above and insert its name into the code block below. Running this code block will execute your circuit on an IBM quantum device. **Note: It may take a while for your job to complete based on queue times.** Use the generated link to check your job's status."
   ]
  },
  {
   "cell_type": "code",
   "execution_count": 17,
   "id": "shaped-justice",
   "metadata": {},
   "outputs": [
    {
     "name": "stdout",
     "output_type": "stream",
     "text": [
      "Check job status here: https://quantum-computing.ibm.com/jobs/639f8dc1a8e4a113e1b3cae2\n"
     ]
    },
    {
     "data": {
      "image/png": "[encoded data removed]",
      "text/plain": [
       "<Figure size 504x360 with 1 Axes>"
      ]
     },
     "execution_count": 17,
     "metadata": {},
     "output_type": "execute_result"
    }
   ],
   "source": [
    "ibmqc = provider.get_backend('...REPLACE WITH A BACKEND NAME...')\n",
    "\n",
    "job = execute(simpleCircuit(), ibmqc, shots=468)\n",
    "print(\"Check job status here:\", \"https://quantum-computing.ibm.com/jobs/\" + job.job_id())\n",
    "res = job.result()\n",
    "counts_ibm = res.get_counts()\n",
    "plot_histogram(counts_ibm)"
   ]
  },
  {
   "cell_type": "markdown",
   "id": "fdb9f351",
   "metadata": {},
   "source": [
    "Do you see the same results as the qasm simulator? Why or why not? What is the error rate?"
   ]
  },
  {
   "cell_type": "raw",
   "id": "ce6c963a",
   "metadata": {},
   "source": [
    "# BEGIN SOLUTION"
   ]
  },
  {
   "cell_type": "markdown",
   "id": "61700262",
   "metadata": {},
   "source": [
    "No. There is error induced by the quantum computer's inherent noise which causes some measurements to yield $|1\\rangle$. The error rate is about 1.5%."
   ]
  },
  {
   "cell_type": "raw",
   "id": "af6216b0",
   "metadata": {},
   "source": [
    "# END SOLUTION"
   ]
  },
  {
   "cell_type": "raw",
   "id": "41bf1bab",
   "metadata": {},
   "source": [
    "# END QUESTION"
   ]
  },
  {
   "cell_type": "raw",
   "id": "deed2251",
   "metadata": {},
   "source": [
    "# BEGIN QUESTION\n",
    "name: Task 5\n",
    "points: 15\n",
    "manual: false"
   ]
  },
  {
   "cell_type": "markdown",
   "id": "baking-contents",
   "metadata": {},
   "source": [
    "#### Task 5 - Another Circuit (15 pts)\n",
    "We now turn to Qiskit's [Pauli X gate](https://qiskit.org/textbook/ch-states/single-qubit-gates.html#xgate) so that we can prepare qubits in the $|1\\rangle$ state.\n",
    "\n",
    "There is also a brief discussion of this gate at the end of `lecture 1: Background`.\n",
    "\n",
    "- Fill in the below function to return a new QuantumCircuit with 2 qubits and 2 classical bits\n",
    "- Prepare the first qubit in state $|0\\rangle$ and the second in state $|1\\rangle$\n",
    "- Perform a measurement of each qubit onto its corresponding classical bit\n",
    "- Draw the circuit using matplotlib"
   ]
  },
  {
   "cell_type": "raw",
   "id": "a303fc6e",
   "metadata": {},
   "source": [
    "# BEGIN SOLUTION"
   ]
  },
  {
   "cell_type": "code",
   "execution_count": 18,
   "id": "confidential-primary",
   "metadata": {},
   "outputs": [],
   "source": [
    "def opposites():\n",
    "    # BEGIN SOLUTION\n",
    "    qc = QuantumCircuit(2,2)\n",
    "    qc.x(1)\n",
    "    qc.measure(0,0)\n",
    "    qc.measure(1,1)\n",
    "    return qc\n",
    "    # END SOLUTION"
   ]
  },
  {
   "cell_type": "code",
   "execution_count": 19,
   "id": "d1999e3a",
   "metadata": {},
   "outputs": [
    {
     "data": {
      "image/png": "[encoded data removed]",
      "text/plain": [
       "<Figure size 267.052x204.68 with 1 Axes>"
      ]
     },
     "execution_count": 19,
     "metadata": {},
     "output_type": "execute_result"
    }
   ],
   "source": [
    "# Draw your circuit in this cell\n",
    "\n",
    "# BEGIN SOLUTION\n",
    "opposites().draw(output='mpl')\n",
    "# END SOLUTION"
   ]
  },
  {
   "cell_type": "raw",
   "id": "147f0a30",
   "metadata": {},
   "source": [
    "# END SOLUTION"
   ]
  },
  {
   "cell_type": "raw",
   "id": "9ae37ec5",
   "metadata": {},
   "source": [
    "# BEGIN TESTS"
   ]
  },
  {
   "cell_type": "code",
   "execution_count": 20,
   "id": "554c4893",
   "metadata": {},
   "outputs": [
    {
     "data": {
      "text/plain": [
       "True"
      ]
     },
     "execution_count": 20,
     "metadata": {},
     "output_type": "execute_result"
    }
   ],
   "source": [
    "\"\"\" # BEGIN TEST CONFIG\n",
    "hidden: false\n",
    "points: 1\n",
    "failure_message: EXPECTED FUNCTION TO RETURN TYPE QuantumCircuit\n",
    "\"\"\" # END TEST CONFIG\n",
    "isinstance(opposites(), QuantumCircuit)"
   ]
  },
  {
   "cell_type": "code",
   "execution_count": 21,
   "id": "931c2a2b",
   "metadata": {},
   "outputs": [
    {
     "data": {
      "text/plain": [
       "True"
      ]
     },
     "execution_count": 21,
     "metadata": {},
     "output_type": "execute_result"
    }
   ],
   "source": [
    "\"\"\" # BEGIN TEST CONFIG\n",
    "hidden: false\n",
    "points: 1\n",
    "failure_message: EXPECTED CIRCUIT TO HAVE 2 CLASSICAL BITS\n",
    "\"\"\" # END TEST CONFIG\n",
    "opposites().num_clbits == 2"
   ]
  },
  {
   "cell_type": "code",
   "execution_count": 22,
   "id": "073f8933",
   "metadata": {},
   "outputs": [
    {
     "data": {
      "text/plain": [
       "True"
      ]
     },
     "execution_count": 22,
     "metadata": {},
     "output_type": "execute_result"
    }
   ],
   "source": [
    "\"\"\" # BEGIN TEST CONFIG\n",
    "hidden: false\n",
    "points: 1\n",
    "failure_message: EXPECTED CIRCUIT TO HAVE 2 QUBITS\n",
    "\"\"\" # END TEST CONFIG\n",
    "opposites().num_qubits == 2"
   ]
  },
  {
   "cell_type": "code",
   "execution_count": 23,
   "id": "9c4cd475",
   "metadata": {},
   "outputs": [
    {
     "data": {
      "text/plain": [
       "True"
      ]
     },
     "execution_count": 23,
     "metadata": {},
     "output_type": "execute_result"
    }
   ],
   "source": [
    "\"\"\" # BEGIN TEST CONFIG\n",
    "hidden: false\n",
    "points: 1\n",
    "failure_message: CIRCUIT SHOULD NOT USE INITIALIZE\n",
    "\"\"\" # END TEST CONFIG\n",
    "def testNoInitialize():\n",
    "    ops = opposites().count_ops()\n",
    "    return 'initialize' not in ops\n",
    "\n",
    "testNoInitialize()"
   ]
  },
  {
   "cell_type": "code",
   "execution_count": 24,
   "id": "e48048b8",
   "metadata": {},
   "outputs": [
    {
     "data": {
      "text/plain": [
       "True"
      ]
     },
     "execution_count": 24,
     "metadata": {},
     "output_type": "execute_result"
    }
   ],
   "source": [
    "\"\"\" # BEGIN TEST CONFIG\n",
    "hidden: false\n",
    "points: 1\n",
    "failure_message: CIRCUIT SHOULD MEASURE EACH QUBIT TO ITS CORRESPONDING CLASSICAL BIT\n",
    "\"\"\" # END TEST CONFIG\n",
    "def testRequirementsOpposites():\n",
    "    ops = opposites().count_ops()\n",
    "    if 'measure' not in ops:\n",
    "        return False\n",
    "    x = 'x' in ops and ops['x'] == 1\n",
    "    return ops['measure'] == 2 and x\n",
    "\n",
    "testRequirementsOpposites()"
   ]
  },
  {
   "cell_type": "code",
   "execution_count": 25,
   "id": "e30122ef",
   "metadata": {},
   "outputs": [
    {
     "data": {
      "text/plain": [
       "True"
      ]
     },
     "execution_count": 25,
     "metadata": {},
     "output_type": "execute_result"
    }
   ],
   "source": [
    "\"\"\" # BEGIN TEST CONFIG\n",
    "hidden: false\n",
    "points: 1\n",
    "failure_message: Measured unexpected state.\n",
    "\"\"\" # END TEST CONFIG\n",
    "def testProbabilitiesOpposites():\n",
    "    qc = opposites().reverse_bits()\n",
    "    job = execute(qc, BasicAer.get_backend('statevector_simulator'), shots=10)\n",
    "    return list(job.result().get_statevector(qc)) == [0, 1, 0, 0]\n",
    "\n",
    "testProbabilitiesOpposites()"
   ]
  },
  {
   "cell_type": "code",
   "execution_count": 26,
   "id": "64b173d3",
   "metadata": {},
   "outputs": [
    {
     "data": {
      "text/plain": [
       "True"
      ]
     },
     "execution_count": 26,
     "metadata": {},
     "output_type": "execute_result"
    }
   ],
   "source": [
    "\"\"\" # BEGIN TEST CONFIG\n",
    "hidden: false\n",
    "points: 9\n",
    "failure_message: ONE OF THE ABOVE TESTS IS NOT PASSING\n",
    "\"\"\" # END TEST CONFIG\n",
    "\n",
    "def testNoInitialize():\n",
    "    ops = opposites().count_ops()\n",
    "    return 'initialize' not in ops\n",
    "def testProbabilitiesOpposites():\n",
    "    qc = opposites().reverse_bits()\n",
    "    job = execute(qc, BasicAer.get_backend('statevector_simulator'), shots=10)\n",
    "    return list(job.result().get_statevector(qc)) == [0, 1, 0, 0]\n",
    "def testRequirementsOpposites():\n",
    "    ops = opposites().count_ops()\n",
    "    if 'measure' not in ops:\n",
    "        return False\n",
    "    x = 'x' in ops and ops['x'] == 1\n",
    "    return ops['measure'] == 2 and x\n",
    "\n",
    "isinstance(opposites(), QuantumCircuit) \\\n",
    "and opposites().num_clbits == 2 \\\n",
    "and opposites().num_qubits == 2 \\\n",
    "and testNoInitialize() \\\n",
    "and testRequirementsOpposites() \\\n",
    "and testProbabilitiesOpposites()"
   ]
  },
  {
   "cell_type": "raw",
   "id": "692f1f83",
   "metadata": {},
   "source": [
    "# END TESTS"
   ]
  },
  {
   "cell_type": "raw",
   "id": "a7c1b901",
   "metadata": {},
   "source": [
    "# END QUESTION"
   ]
  },
  {
   "cell_type": "raw",
   "id": "eeb652d4",
   "metadata": {},
   "source": [
    "# BEGIN QUESTION\n",
    "name: Task 6\n",
    "points: 15\n",
    "manual: false"
   ]
  },
  {
   "cell_type": "markdown",
   "id": "colored-state",
   "metadata": {},
   "source": [
    "#### Task 6 - More Counts (15 pts)\n",
    "\n",
    "Think about what output you expect to see from this circuit. \n",
    "- Run your circuit on the qasm simulator 468 times\n",
    "- Store the measurement results in `counts_oppo`\n",
    "\n",
    "Note that the following cell uses Qiskit's [`reverse_bits()`](https://qiskit.org/documentation/stubs/qiskit.circuit.QuantumCircuit.reverse_bits.html#qiskit.circuit.QuantumCircuit.reverse_bits) function. This flips the ordering of qubits in a multi-qubit circuit and changes the [endianness](https://en.wikipedia.org/wiki/Endianness) of the resulting statevector, $|01\\rangle$. The reasons for this will become clear in the upcoming lectures and notebook assignments."
   ]
  },
  {
   "cell_type": "raw",
   "id": "c5abc375",
   "metadata": {},
   "source": [
    "# BEGIN SOLUTION"
   ]
  },
  {
   "cell_type": "code",
   "execution_count": 27,
   "id": "detailed-literature",
   "metadata": {},
   "outputs": [
    {
     "data": {
      "image/png": "[encoded data removed]",
      "text/plain": [
       "<Figure size 504x360 with 1 Axes>"
      ]
     },
     "execution_count": 27,
     "metadata": {},
     "output_type": "execute_result"
    }
   ],
   "source": [
    "qc = opposites().reverse_bits()\n",
    "\n",
    "# BEGIN SOLUTION\n",
    "job = execute(qc, BasicAer.get_backend(\"qasm_simulator\"), shots=468)\n",
    "counts_oppo = job.result().get_counts()\n",
    "# END SOLUTION\n",
    "\n",
    "for state in ['00','01','10','11']:\n",
    "    if state not in counts_oppo:\n",
    "        counts_oppo[state] = 0\n",
    "plot_histogram(counts_oppo)"
   ]
  },
  {
   "cell_type": "raw",
   "id": "94ebb0ab",
   "metadata": {},
   "source": [
    "# END SOLUTION"
   ]
  },
  {
   "cell_type": "raw",
   "id": "b08d8748",
   "metadata": {},
   "source": [
    "# BEGIN TESTS"
   ]
  },
  {
   "cell_type": "code",
   "execution_count": 28,
   "id": "56983b92",
   "metadata": {},
   "outputs": [
    {
     "data": {
      "text/plain": [
       "True"
      ]
     },
     "execution_count": 28,
     "metadata": {},
     "output_type": "execute_result"
    }
   ],
   "source": [
    "\"\"\" # BEGIN TEST CONFIG\n",
    "hidden: false\n",
    "points: 15\n",
    "failure_message: EXPECTED opposites TO BE RUN 468 TIMES\n",
    "\"\"\" # END TEST CONFIG\n",
    "'01' in counts_oppo and counts_oppo['01'] == 468"
   ]
  },
  {
   "cell_type": "raw",
   "id": "2683ab4a",
   "metadata": {},
   "source": [
    "# END TESTS"
   ]
  },
  {
   "cell_type": "raw",
   "id": "fb02d05c",
   "metadata": {},
   "source": [
    "# END QUESTION"
   ]
  },
  {
   "cell_type": "markdown",
   "id": "monetary-battery",
   "metadata": {},
   "source": [
    "## Conclusion\n",
    "This is the general workflow of building and running quantum circuits. We will introduce more qubits and gates as needed to solve problems.\n",
    "\n",
    "Next time: the unitary gate and single qubit circuits!"
   ]
  }
 ],
 "metadata": {
  "kernelspec": {
   "display_name": "Python 3",
   "language": "python",
   "name": "python3"
  },
  "language_info": {
   "codemirror_mode": {
    "name": "ipython",
    "version": 3
   },
   "file_extension": ".py",
   "mimetype": "text/x-python",
   "name": "python",
   "nbconvert_exporter": "python",
   "pygments_lexer": "ipython3",
   "version": "3.7.0"
  }
 },
 "nbformat": 4,
 "nbformat_minor": 5
}
